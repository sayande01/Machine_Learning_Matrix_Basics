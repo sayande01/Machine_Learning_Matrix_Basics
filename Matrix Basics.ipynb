{
 "cells": [
  {
   "cell_type": "markdown",
   "id": "b0bb3bd4-6943-495b-a778-cf4be797acc4",
   "metadata": {},
   "source": [
    "# Matrix Operations"
   ]
  },
  {
   "cell_type": "code",
   "execution_count": 1,
   "id": "5a0e6107-6a23-46ef-b4c3-1888199eb0b7",
   "metadata": {},
   "outputs": [],
   "source": [
    "import numpy as np"
   ]
  },
  {
   "cell_type": "code",
   "execution_count": 2,
   "id": "59a50250-a009-40d0-92dc-c678758e983f",
   "metadata": {},
   "outputs": [
    {
     "name": "stdout",
     "output_type": "stream",
     "text": [
      "[[2 3]\n",
      " [6 7]]\n"
     ]
    }
   ],
   "source": [
    "matrix_1 = np.array([[2,3],[6,7]])\n",
    "print(matrix_1)"
   ]
  },
  {
   "cell_type": "code",
   "execution_count": 3,
   "id": "0f1bd2cc-5fb1-4b0a-bac0-ebbe5be427b4",
   "metadata": {},
   "outputs": [
    {
     "data": {
      "text/plain": [
       "(2, 2)"
      ]
     },
     "execution_count": 3,
     "metadata": {},
     "output_type": "execute_result"
    }
   ],
   "source": [
    "matrix_1.shape"
   ]
  },
  {
   "cell_type": "code",
   "execution_count": 4,
   "id": "97b39613-ba88-4d58-9541-4b4373c94601",
   "metadata": {},
   "outputs": [
    {
     "name": "stdout",
     "output_type": "stream",
     "text": [
      "[[10 35 45]\n",
      " [50 64 80]\n",
      " [20 15 90]]\n"
     ]
    }
   ],
   "source": [
    "matrix_2 = np.array([[10,35,45],[50,64,80],[20,15,90]])\n",
    "print(matrix_2)"
   ]
  },
  {
   "cell_type": "code",
   "execution_count": 5,
   "id": "e6380fc1-6822-4126-ad94-41c6cf73fb57",
   "metadata": {},
   "outputs": [
    {
     "data": {
      "text/plain": [
       "(3, 3)"
      ]
     },
     "execution_count": 5,
     "metadata": {},
     "output_type": "execute_result"
    }
   ],
   "source": [
    "matrix_2.shape"
   ]
  },
  {
   "cell_type": "markdown",
   "id": "2995b5a7-9b8f-410f-a88a-3a63507891d8",
   "metadata": {},
   "source": [
    "### Creating Matrices with Random Values"
   ]
  },
  {
   "cell_type": "code",
   "execution_count": 6,
   "id": "47ca6895-f817-4c7b-93fb-a37502892b7b",
   "metadata": {},
   "outputs": [
    {
     "name": "stdout",
     "output_type": "stream",
     "text": [
      "[[0.31432334 0.61846776 0.32435101]\n",
      " [0.41379465 0.91522129 0.78458499]\n",
      " [0.96263494 0.85790349 0.4560184 ]]\n"
     ]
    }
   ],
   "source": [
    "random_matrix = np.random.rand(3,3)\n",
    "print(random_matrix)"
   ]
  },
  {
   "cell_type": "code",
   "execution_count": null,
   "id": "b3eece89-7819-4770-8ded-43447194515c",
   "metadata": {},
   "outputs": [],
   "source": [
    "# creating matrix with random integers"
   ]
  },
  {
   "cell_type": "code",
   "execution_count": 7,
   "id": "3ee99a6f-3169-4f0b-888d-53612d0bec2c",
   "metadata": {},
   "outputs": [
    {
     "name": "stdout",
     "output_type": "stream",
     "text": [
      "[[30 33 34 73 62]\n",
      " [68 40 70 36 88]\n",
      " [ 1 71 24 70 80]\n",
      " [ 0 37 83 15 18]]\n"
     ]
    }
   ],
   "source": [
    "random_integer_matrix = np.random.randint(100, size=(4,5))\n",
    "print(random_integer_matrix)"
   ]
  },
  {
   "cell_type": "code",
   "execution_count": 8,
   "id": "4d8a8e10-298b-4a45-8c8b-c29583a276bf",
   "metadata": {},
   "outputs": [
    {
     "name": "stdout",
     "output_type": "stream",
     "text": [
      "[[1. 1. 1.]\n",
      " [1. 1. 1.]]\n"
     ]
    }
   ],
   "source": [
    "#Matrix with all the values as 1\n",
    "matrix_3 = np.ones((2,3))\n",
    "print(matrix_3)"
   ]
  },
  {
   "cell_type": "code",
   "execution_count": null,
   "id": "ef123d48-edad-4ccb-a48b-8e02ea9b7336",
   "metadata": {},
   "outputs": [],
   "source": [
    "matrix_3 = np.ones((2,3), dtype=int)\n",
    "print(matrix_3)"
   ]
  },
  {
   "cell_type": "code",
   "execution_count": 9,
   "id": "f58b37d1-30a3-4d68-be26-e22c7efe81cb",
   "metadata": {},
   "outputs": [
    {
     "name": "stdout",
     "output_type": "stream",
     "text": [
      "[[1 1 1]\n",
      " [1 1 1]]\n"
     ]
    }
   ],
   "source": [
    "matrix_3 = np.ones((2,3), dtype=int)\n",
    "print(matrix_3)"
   ]
  },
  {
   "cell_type": "code",
   "execution_count": 10,
   "id": "f67da382-9590-4247-a1fd-1ff72eed13d5",
   "metadata": {},
   "outputs": [
    {
     "name": "stdout",
     "output_type": "stream",
     "text": [
      "[[1 1 1 1 1 1 1 1 1 1]\n",
      " [1 1 1 1 1 1 1 1 1 1]\n",
      " [1 1 1 1 1 1 1 1 1 1]\n",
      " [1 1 1 1 1 1 1 1 1 1]\n",
      " [1 1 1 1 1 1 1 1 1 1]\n",
      " [1 1 1 1 1 1 1 1 1 1]\n",
      " [1 1 1 1 1 1 1 1 1 1]\n",
      " [1 1 1 1 1 1 1 1 1 1]\n",
      " [1 1 1 1 1 1 1 1 1 1]\n",
      " [1 1 1 1 1 1 1 1 1 1]]\n"
     ]
    }
   ],
   "source": [
    "matrix_3 = np.ones((10,10), dtype=int)\n",
    "print(matrix_3)"
   ]
  },
  {
   "cell_type": "markdown",
   "id": "c9aebebe-46e1-432c-9b0e-b723bf2993b4",
   "metadata": {},
   "source": [
    "### Null Matrix or Zero Matrix"
   ]
  },
  {
   "cell_type": "code",
   "execution_count": 11,
   "id": "933333c9-c409-40a8-b02f-b9608346b2fd",
   "metadata": {},
   "outputs": [
    {
     "name": "stdout",
     "output_type": "stream",
     "text": [
      "[[0. 0. 0. 0.]\n",
      " [0. 0. 0. 0.]\n",
      " [0. 0. 0. 0.]\n",
      " [0. 0. 0. 0.]]\n"
     ]
    }
   ],
   "source": [
    "null_matrix = np.zeros((4,4))\n",
    "print(null_matrix)"
   ]
  },
  {
   "cell_type": "markdown",
   "id": "2ef04597-1e5e-49eb-87c4-e1ed229235cb",
   "metadata": {},
   "source": [
    "### Identity Matrix"
   ]
  },
  {
   "cell_type": "code",
   "execution_count": 19,
   "id": "d97a95f4-e814-474a-bf55-2e7529c3b69e",
   "metadata": {},
   "outputs": [
    {
     "name": "stdout",
     "output_type": "stream",
     "text": [
      "[[1. 0. 0. 0. 0.]\n",
      " [0. 1. 0. 0. 0.]\n",
      " [0. 0. 1. 0. 0.]\n",
      " [0. 0. 0. 1. 0.]\n",
      " [0. 0. 0. 0. 1.]]\n"
     ]
    }
   ],
   "source": [
    "identity_matrix = np.eye(5,5)\n",
    "print(identity_matrix)"
   ]
  },
  {
   "cell_type": "markdown",
   "id": "48ed9de9-40e1-453c-b547-5f974c7de4cb",
   "metadata": {},
   "source": [
    "### Transpose of a MATRIX"
   ]
  },
  {
   "cell_type": "code",
   "execution_count": 13,
   "id": "cd0126f3-0e3a-4416-a184-908efff26974",
   "metadata": {},
   "outputs": [
    {
     "name": "stdout",
     "output_type": "stream",
     "text": [
      "[[17  5 26 83 76]\n",
      " [36 38 17 49  8]\n",
      " [94 45 86 67 15]\n",
      " [ 7 15  5 56 31]]\n"
     ]
    }
   ],
   "source": [
    "# matrix with random integer values\n",
    "a = np.random.randint(100, size=(4,5))\n",
    "print(a)"
   ]
  },
  {
   "cell_type": "code",
   "execution_count": 14,
   "id": "75e3034d-55bf-449a-9d9d-ba041da67888",
   "metadata": {},
   "outputs": [
    {
     "name": "stdout",
     "output_type": "stream",
     "text": [
      "[[17 36 94  7]\n",
      " [ 5 38 45 15]\n",
      " [26 17 86  5]\n",
      " [83 49 67 56]\n",
      " [76  8 15 31]]\n"
     ]
    }
   ],
   "source": [
    "transpose_of_a = np.transpose(a)\n",
    "print(transpose_of_a)"
   ]
  },
  {
   "cell_type": "code",
   "execution_count": null,
   "id": "3aaa84ef-dc2d-4433-bd43-d3c58f7454d2",
   "metadata": {},
   "outputs": [],
   "source": []
  },
  {
   "cell_type": "code",
   "execution_count": null,
   "id": "b060e3ee-ff5b-4c81-a582-2a76b9424d4e",
   "metadata": {},
   "outputs": [],
   "source": []
  },
  {
   "cell_type": "code",
   "execution_count": null,
   "id": "da4e97ab-054d-44fb-8048-9c28b2586930",
   "metadata": {},
   "outputs": [],
   "source": []
  }
 ],
 "metadata": {
  "kernelspec": {
   "display_name": "Python 3 (ipykernel)",
   "language": "python",
   "name": "python3"
  },
  "language_info": {
   "codemirror_mode": {
    "name": "ipython",
    "version": 3
   },
   "file_extension": ".py",
   "mimetype": "text/x-python",
   "name": "python",
   "nbconvert_exporter": "python",
   "pygments_lexer": "ipython3",
   "version": "3.11.7"
  }
 },
 "nbformat": 4,
 "nbformat_minor": 5
}
